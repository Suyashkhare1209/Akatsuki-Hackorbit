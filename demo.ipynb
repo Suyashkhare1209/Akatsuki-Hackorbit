{
 "cells": [
  {
   "cell_type": "code",
   "execution_count": 6,
   "id": "e0e6ebfd",
   "metadata": {},
   "outputs": [
    {
     "name": "stdout",
     "output_type": "stream",
     "text": [
      "🔥 Fire Risk Predictions\n",
      "------------------------\n",
      "Tile 1: 🌿 SAFE (Prediction: 0, Confidence: 0.39)\n"
     ]
    },
    {
     "name": "stderr",
     "output_type": "stream",
     "text": [
      "c:\\Users\\IIISI\\AppData\\Local\\Programs\\Python\\Python313\\Lib\\site-packages\\sklearn\\base.py:440: InconsistentVersionWarning: Trying to unpickle estimator DecisionTreeClassifier from version 1.5.2 when using version 1.7.0. This might lead to breaking code or invalid results. Use at your own risk. For more info please refer to:\n",
      "https://scikit-learn.org/stable/model_persistence.html#security-maintainability-limitations\n",
      "  warnings.warn(\n",
      "c:\\Users\\IIISI\\AppData\\Local\\Programs\\Python\\Python313\\Lib\\site-packages\\sklearn\\base.py:440: InconsistentVersionWarning: Trying to unpickle estimator RandomForestClassifier from version 1.5.2 when using version 1.7.0. This might lead to breaking code or invalid results. Use at your own risk. For more info please refer to:\n",
      "https://scikit-learn.org/stable/model_persistence.html#security-maintainability-limitations\n",
      "  warnings.warn(\n"
     ]
    }
   ],
   "source": [
    "# 🔥 Fire Risk Prediction Demo using Random Forest Model\n",
    "\n",
    "import joblib\n",
    "import pandas as pd\n",
    "import numpy as np\n",
    "\n",
    "# =============================\n",
    "# ✅ Step 1: Load the Trained Model\n",
    "# =============================\n",
    "model_path = \"best_random_forest_model.pkl\"  # Make sure this file is in the same folder\n",
    "model = joblib.load(model_path)\n",
    "\n",
    "# =============================\n",
    "# ✅ Step 2: Prepare Sample Inputs\n",
    "# =============================\n",
    "\n",
    "# Each row = one tile's environmental features\n",
    "# Features: [elevation, lat, lon, ndvi, lst, slope, aspect, land_cover_type, month, relative_humidity, wind_speed]\n",
    "sample_tiles = [\n",
    "    # [400, 29.4, 78.0, 0.7, 35, 10, 180, 1, 5, 25, 2],\n",
    "    [2500, 30.8, 79.0, 0.1, 10, 40, 270, 3, 1, 85, 1.2],\n",
    "    # [150, 29.2, 78.3, 0.15, 40, 2, 180, 1, 4, 30, 4.2],\n",
    "    # [900, 30.0, 78.1, 0.5, 24, 12, 60, 1, 11, 75, 1.2],\n",
    "    \n",
    "]\n",
    "\n",
    "# Column names used during model training\n",
    "columns = [\n",
    "    \"elevation\", \"lat\", \"lon\", \"ndvi\", \"lst\", \"slope\", \"aspect\",\n",
    "    \"land_cover_type\", \"month\", \"relative_humidity\", \"wind_speed\"\n",
    "]\n",
    "\n",
    "# Convert to DataFrame\n",
    "X_input = pd.DataFrame(sample_tiles, columns=columns)\n",
    "\n",
    "# =============================\n",
    "# ✅ Step 3: Make Predictions\n",
    "# =============================\n",
    "\n",
    "# Predict binary outcome: 0 = Safe, 1 = Fire\n",
    "predictions = model.predict(X_input)\n",
    "\n",
    "# Optional: Get probability of fire (just for explanation)\n",
    "probabilities = model.predict_proba(X_input)[:, 1]  # probability of fire class (1)\n",
    "\n",
    "# =============================\n",
    "# ✅ Step 4: Display Results\n",
    "# =============================\n",
    "\n",
    "print(\"🔥 Fire Risk Predictions\\n------------------------\")\n",
    "for i, (pred, prob) in enumerate(zip(predictions, probabilities)):\n",
    "    label = \"🔥 FIRE\" if pred == 1 else \"🌿 SAFE\"\n",
    "    print(f\"Tile {i+1}: {label} (Prediction: {pred}, Confidence: {prob:.2f})\")\n"
   ]
  },
  {
   "cell_type": "code",
   "execution_count": null,
   "id": "582137ba",
   "metadata": {},
   "outputs": [],
   "source": []
  }
 ],
 "metadata": {
  "kernelspec": {
   "display_name": "Python 3",
   "language": "python",
   "name": "python3"
  },
  "language_info": {
   "codemirror_mode": {
    "name": "ipython",
    "version": 3
   },
   "file_extension": ".py",
   "mimetype": "text/x-python",
   "name": "python",
   "nbconvert_exporter": "python",
   "pygments_lexer": "ipython3",
   "version": "3.13.5"
  }
 },
 "nbformat": 4,
 "nbformat_minor": 5
}
